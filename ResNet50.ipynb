{
 "cells": [
  {
   "cell_type": "markdown",
   "metadata": {},
   "source": [
    "# Classifying Caltech-101 using ResNet50\n",
    "\n",
    "The goal of this notebook is to train a ResNet50 model from scratch on the Caltech-101 dataset using the Keras framework.  If you go [here](http://www.vision.caltech.edu/Image_Datasets/Caltech101/), you will find a description of the data and a link where you can download it (if you do, also extract it).  You can read the paper on ResNets [here](https://arxiv.org/pdf/1512.03385.pdf); we will be implementing the 50-layer varient as outlined by the authors.  Keras documentation can be found [here](https://keras.io/).  Let's begin!"
   ]
  },
  {
   "cell_type": "code",
   "execution_count": 1,
   "metadata": {},
   "outputs": [
    {
     "name": "stderr",
     "output_type": "stream",
     "text": [
      "Using TensorFlow backend.\n"
     ]
    }
   ],
   "source": [
    "import os\n",
    "import numpy as np\n",
    "\n",
    "from keras.utils import to_categorical\n",
    "from keras.layers import (\n",
    "    Input,\n",
    "    Add,\n",
    "    Dense,\n",
    "    Activation,\n",
    "    ZeroPadding2D,\n",
    "    BatchNormalization,\n",
    "    Conv2D,\n",
    "    MaxPooling2D,\n",
    "    GlobalAveragePooling2D\n",
    ")\n",
    "from keras.models import Model\n",
    "from keras.regularizers import l2\n",
    "from keras.optimizers import Adam\n",
    "from keras.callbacks import LearningRateScheduler\n",
    "from keras.preprocessing.image import ImageDataGenerator\n",
    "\n",
    "import matplotlib.pyplot as plt"
   ]
  },
  {
   "cell_type": "markdown",
   "metadata": {},
   "source": [
    "## Setting training parameters\n",
    "\n",
    "We will start by setting a few parameters.  You will need to edit **base_path** to the location of the extracted dataset.\n",
    "\n",
    " - **base_path**: Path where the downloaded and extracted dataset is located.\n",
    " - **split**: Proportion of data to go into the training set (with the rest used for validation).\n",
    " - **num_classes**: Number of classes; 101 in this case.\n",
    " - **l2_reg**: Parameter to be used for L2-regularization.\n",
    " - **num_epochs**: Number of epochs to use for training.\n",
    " - **minibatch_size**: Batch size used for training.\n",
    " - **val_batch_size**: Size of batches used in validation (used for generator)."
   ]
  },
  {
   "cell_type": "code",
   "execution_count": 2,
   "metadata": {},
   "outputs": [],
   "source": [
    "base_path = \"/Users/alex/Downloads/\"\n",
    "split = .8\n",
    "\n",
    "num_classes = 101\n",
    "l2_reg = .001\n",
    "\n",
    "num_epochs = 80\n",
    "minibatch_size = 64\n",
    "val_batch_size = 56"
   ]
  },
  {
   "cell_type": "markdown",
   "metadata": {},
   "source": [
    "## Split data into training and validation\n",
    "\n",
    "We will be taking advantage of generators to avoid loading our data into memory.  Because of this, we need to split our images into training and validation sets on the hard disk.  Below is a script that will create a folder called \n",
    "*caltech_data* in the same directory as the downloaded dataset.  Inside *caltech_data* will be two folders, *train* and *val*.  Both of these will have 101 folders corresponding to our data's classes, and these folders will contain our images.\n",
    "\n",
    "Some classes have fewer than 35 images, so we want to avoid sitations where only a couple images from a class end up in validation or fewer than 25 images from a class end up in training.  To do this, we will ensure that **np.round(N * split)** images from each class are sorted into training, where N is the total number of images in the class that is being sorted.\n",
    "\n",
    "Not every class has the same number of images, however the imbalance is not great enough to necessitate a correction via over- and undersampling."
   ]
  },
  {
   "cell_type": "code",
   "execution_count": 3,
   "metadata": {},
   "outputs": [],
   "source": [
    "raw_path = base_path + \"101_ObjectCategories/\"\n",
    "train_path = base_path + \"caltech_data/train/\"\n",
    "val_path = base_path + \"caltech_data/val/\""
   ]
  },
  {
   "cell_type": "code",
   "execution_count": 4,
   "metadata": {},
   "outputs": [],
   "source": [
    "os.chdir(base_path)\n",
    "!mkdir -p caltech_data/train\n",
    "!mkdir -p caltech_data/val\n",
    "os.chdir(raw_path)\n",
    "for directory in os.listdir(raw_path):\n",
    "    if directory == \".DS_Store\" or directory == \"BACKGROUND_Google\":\n",
    "        continue\n",
    "    image_files = os.listdir(raw_path + directory + \"/\")\n",
    "    num_images_cat = len(image_files)\n",
    "    image_files = np.random.permutation(image_files)\n",
    "    num_train_cat = int(np.round(split * num_images_cat))\n",
    "    num_val_cat = num_images_cat - num_train_cat\n",
    "    !mkdir ../caltech_data/train/{directory}\n",
    "    !mkdir ../caltech_data/val/{directory}\n",
    "    for i in range(num_train_cat):\n",
    "        origin_path = raw_path + directory + \"/\" + image_files[i]\n",
    "        destination_path = train_path + directory + \"/\" + image_files[i]\n",
    "        !cp {origin_path} {destination_path}\n",
    "    for i in range(num_val_cat):\n",
    "        origin_path = raw_path + directory + \"/\" + image_files[num_train_cat + i]\n",
    "        destination_path = val_path + directory + \"/\" + image_files[num_train_cat + i]\n",
    "        !cp {origin_path} {destination_path}"
   ]
  },
  {
   "cell_type": "markdown",
   "metadata": {},
   "source": [
    "## Define the model architecture\n",
    "\n",
    "The next three cells will define the ResNet50 architecture.  The first two will define our residual building blocks, and the third will put it all together."
   ]
  },
  {
   "cell_type": "markdown",
   "metadata": {},
   "source": [
    "### Architecture, part 1: identity block\n",
    "\n",
    "The identity block is the basic building block of our residual network.  Also called a bottleneck block, it has three convolution steps with filter sizes 1x1, 3x3, and 1x1, and has batch normalization and ReLU activation following each convolution.  Finally, a short circuit connection adds the input of the block to the output of the third convolution after it has been normalized but before activation.  This short circuit connection is present in every residual block and enables the model to learn faster than a plain network would."
   ]
  },
  {
   "cell_type": "code",
   "execution_count": 5,
   "metadata": {},
   "outputs": [],
   "source": [
    "def id_block(X, filters, block_num):\n",
    "    X_cut = X\n",
    "    \n",
    "    X = Conv2D(filters[0], [1, 1], strides = [1, 1], padding = \"same\",\n",
    "               kernel_regularizer = l2(l2_reg),\n",
    "               name = \"conv_\" + str(block_num) + \"_1\")(X)\n",
    "    X = BatchNormalization(name = \"bn_\" + str(block_num) + \"_1\")(X)\n",
    "    X = Activation(\"relu\")(X)\n",
    "    \n",
    "    X = Conv2D(filters[0], [3, 3], strides = [1, 1], padding = \"same\",\n",
    "               kernel_regularizer = l2(l2_reg),\n",
    "               name = \"conv_\" + str(block_num) + \"_2\")(X)\n",
    "    X = BatchNormalization(name = \"bn_\" + str(block_num) + \"_2\")(X)\n",
    "    X = Activation(\"relu\")(X)\n",
    "    \n",
    "    X = Conv2D(filters[1], [1, 1], strides = [1, 1], padding = \"same\",\n",
    "               kernel_regularizer = l2(l2_reg),\n",
    "               name = \"conv_\" + str(block_num) + \"_3\")(X)\n",
    "    X = BatchNormalization(name = \"bn_\" + str(block_num) + \"_3\")(X)\n",
    "\n",
    "    X = Add()([X, X_cut])\n",
    "    X = Activation(\"relu\")(X)\n",
    "    \n",
    "    return X"
   ]
  },
  {
   "cell_type": "markdown",
   "metadata": {},
   "source": [
    "### Architecture, part 2: convolution block\n",
    "\n",
    "The convolution block is used to shrink the length and width dimentions while elongating the depth dimension of our activations.  The structure is similar to the identity block with a few key changes.  First, notice that the initial convolution layer allows us to use a stride other than one (in this model we will always use a stride of two).  This is called downsampling and it scales down the length and width dimensions of our activation by a factor of the stride.",
    "\n",
    "As seen in the next cell, the number of convolution filters used for this block is always double that of the prior one.  Therefore, if the input to this block is of size LxWxD, then the output of the third convolution will be of size (L/2)x(W/2)x(D\\*2).  Since the dimensions of the input no longer match those of our output (which was not the case for the identity block), we convolve the input using the same stride as the intial convolution layer and use a number of filters equal to the desired depth dimension."
   ]
  },
  {
   "cell_type": "code",
   "execution_count": 6,
   "metadata": {},
   "outputs": [],
   "source": [
    "def conv_block(X, filters, s, block_num):\n",
    "    X_cut = X\n",
    "    \n",
    "    X = Conv2D(filters[0], [1, 1], strides = [s, s], padding = \"same\",\n",
    "               kernel_regularizer = l2(l2_reg),\n",
    "               name = \"conv_\" + str(block_num) + \"_1\")(X)\n",
    "    X = BatchNormalization(name = \"bn_\" + str(block_num) + \"_1\")(X)\n",
    "    X = Activation(\"relu\")(X)\n",
    "    \n",
    "    X = Conv2D(filters[0], [3, 3], strides = [1, 1], padding = \"same\",\n",
    "               kernel_regularizer = l2(l2_reg),\n",
    "               name = \"conv_\" + str(block_num) + \"_2\")(X)\n",
    "    X = BatchNormalization(name = \"bn_\" + str(block_num) + \"_2\")(X)\n",
    "    X = Activation(\"relu\")(X)\n",
    "    \n",
    "    X = Conv2D(filters[1], [1, 1], strides = [1, 1], padding = \"same\",\n",
    "               kernel_regularizer = l2(l2_reg),\n",
    "               name = \"conv_\" + str(block_num) + \"_3\")(X)\n",
    "    X = BatchNormalization(name = \"bn_\" + str(block_num) + \"_3\")(X)\n",
    "    \n",
    "    X_cut = Conv2D(filters[1], [1, 1], strides = [s, s], padding = \"same\",\n",
    "                   kernel_regularizer = l2(l2_reg),\n",
    "                   name = \"conv_\" + str(block_num) + \"_cut\")(X_cut)\n",
    "    X_cut = BatchNormalization(name = \"bn_\" + str(block_num) + \"_cut\")(X_cut)\n",
    "    \n",
    "    X = Add()([X, X_cut])\n",
    "    X = Activation(\"relu\")(X)\n",
    "    \n",
    "    return X"
   ]
  },
  {
   "cell_type": "markdown",
   "metadata": {},
   "source": [
    "### Architecture, part 3: building the model\n",
    "\n",
    "We build our model by stacking residual blocks on top of one another.  Before the first residual block we use a 7x7 convolution layer with maxpooling, and then we end with global average pooling feeding into a softmax layer."
   ]
  },
  {
   "cell_type": "code",
   "execution_count": 7,
   "metadata": {},
   "outputs": [],
   "source": [
    "def ResNet50(input_shape, num_classes):\n",
    "    X_input = Input(input_shape)\n",
    "    \n",
    "    # Phase 1\n",
    "    X = Conv2D(64, [7, 7], strides = [2, 2], padding = \"same\",\n",
    "               kernel_regularizer = l2(l2_reg),\n",
    "               name = \"conv_1\")(X_input)\n",
    "    X = BatchNormalization(name = \"bn_1\")(X)\n",
    "    X = Activation(\"relu\")(X)\n",
    "    X = MaxPooling2D([3, 3], strides=[2, 2], padding = \"same\")(X)\n",
    "    \n",
    "    # Phase 2\n",
    "    X = conv_block(X, [64, 256], s = 2, block_num = 2)\n",
    "    X = id_block(X, [64, 256], block_num = 3)\n",
    "    X = id_block(X, [64, 256], block_num = 4)\n",
    "    \n",
    "    # Phase 3\n",
    "    X = conv_block(X, [128, 512], s = 2, block_num = 5)\n",
    "    X = id_block(X, [128, 512], block_num = 6)\n",
    "    X = id_block(X, [128, 512], block_num = 7)\n",
    "    X = id_block(X, [128, 512], block_num = 8)\n",
    "    \n",
    "    # Phase 4\n",
    "    X = conv_block(X, [256, 1024], s = 2, block_num = 9)\n",
    "    X = id_block(X, [256, 1024], block_num = 10)\n",
    "    X = id_block(X, [256, 1024], block_num = 11)\n",
    "    X = id_block(X, [256, 1024], block_num = 12)\n",
    "    X = id_block(X, [256, 1024], block_num = 13)\n",
    "    X = id_block(X, [256, 1024], block_num = 14)\n",
    "    \n",
    "    # Phase 5\n",
    "    X = conv_block(X, [512, 2048], s = 2, block_num = 15)\n",
    "    X = id_block(X, [512, 2048], block_num = 16)\n",
    "    X = id_block(X, [512, 2048], block_num = 17)\n",
    "    \n",
    "    # Pool and softmax\n",
    "    X = GlobalAveragePooling2D()(X)\n",
    "    X = Dense(num_classes, activation = \"softmax\", name = \"softmax\")(X)\n",
    "    \n",
    "    model = Model(inputs = X_input, outputs = X, name = \"ResNet50\")\n",
    "\n",
    "    return model"
   ]
  },
  {
   "cell_type": "markdown",
   "metadata": {},
   "source": [
    "## Initialize our model\n",
    "\n",
    "The input size of each image is 224x224 pixels with 3 channels (RGB)."
   ]
  },
  {
   "cell_type": "code",
   "execution_count": 8,
   "metadata": {},
   "outputs": [],
   "source": [
    "resnet50_model = ResNet50(input_shape = (224, 224, 3), num_classes = num_classes)"
   ]
  },
  {
   "cell_type": "markdown",
   "metadata": {},
   "source": [
    "## Define a learning rate schedule\n",
    "\n",
    "Rather than use a constant learning rate, we want to decay the learning rate each epoch.  We define a learning rate schedule using an initial value of 4e-4 and subtract 5e-6 every epoch."
   ]
  },
  {
   "cell_type": "code",
   "execution_count": 9,
   "metadata": {},
   "outputs": [],
   "source": [
    "def learn_schedule(epoch):\n",
    "    init_learning_rate = 4e-4\n",
    "    decay = (80 - epoch) / 80.\n",
    "    learning_rate = init_learning_rate * decay\n",
    "    if learning_rate <= 0:\n",
    "        learning_rate = 5e-6\n",
    "    return learning_rate"
   ]
  },
  {
   "cell_type": "markdown",
   "metadata": {},
   "source": [
    "## Initialize LearningRateScheduler\n",
    "\n",
    "The **learn_scheduler** object will be passed to our training function, and Keras will update the learning rate per the schedule we defined automatically."
   ]
  },
  {
   "cell_type": "code",
   "execution_count": 10,
   "metadata": {},
   "outputs": [],
   "source": [
    "learn_scheduler = LearningRateScheduler(learn_schedule)"
   ]
  },
  {
   "cell_type": "markdown",
   "metadata": {},
   "source": [
    "## Compile our model\n",
    "\n",
    "We tell Keras that we want to use the adam optimizer, that we want to optimize the [cross entropy loss function](https://en.wikipedia.org/wiki/Cross_entropy#Cross-entropy_error_function_and_logistic_regression), and that our evaluation metric is accuracy."
   ]
  },
  {
   "cell_type": "code",
   "execution_count": 11,
   "metadata": {},
   "outputs": [],
   "source": [
    "adam = Adam(lr = learn_schedule(0))\n",
    "resnet50_model.compile(optimizer = adam, loss = 'categorical_crossentropy', metrics = ['accuracy'])"
   ]
  },
  {
   "cell_type": "markdown",
   "metadata": {},
   "source": [
    "## Mean centering\n",
    "\n",
    "We want to center each image around the average value for each color channel (red, green, and blue).  This function will be passed to our data generators below.  Note that I've cheated a bit and already know the average RGB values from prior tinkering."
   ]
  },
  {
   "cell_type": "code",
   "execution_count": 12,
   "metadata": {},
   "outputs": [],
   "source": [
    "rgb_mean = [138.95, 132.34, 124.39]\n",
    "def center_image(image):    \n",
    "    image[:,:,0] -= rgb_mean[0]\n",
    "    image[:,:,1] -= rgb_mean[1]\n",
    "    image[:,:,2] -= rgb_mean[2]\n",
    "    return image"
   ]
  },
  {
   "cell_type": "markdown",
   "metadata": {},
   "source": [
    "## Initialize data generators\n",
    "\n",
    "As mentioned above, we want to avoid reading our entire dataset into memory so we will use Keras' ImageDataGenerators.  We define two, one for training and one for validation.  For our training generator, we will employ image augmentation that will hopefully allow our model to generalize better to images it hasn't trained on.  For both training and validation, we use our mean centering function and also scale pixel values, which range from 0 to 255, by a factor of (1/255)."
   ]
  },
  {
   "cell_type": "code",
   "execution_count": 13,
   "metadata": {},
   "outputs": [
    {
     "name": "stdout",
     "output_type": "stream",
     "text": [
      "Found 6941 images belonging to 101 classes.\n",
      "Found 1736 images belonging to 101 classes.\n"
     ]
    }
   ],
   "source": [
    "train_datagen = ImageDataGenerator(\n",
    "    rotation_range = 20,\n",
    "    width_shift_range = 0.2,\n",
    "    height_shift_range = 0.2,\n",
    "    shear_range = 0.2,\n",
    "    zoom_range = 0.2,\n",
    "    horizontal_flip = True,\n",
    "    preprocessing_function = center_image,\n",
    "    rescale = 1./255)\n",
    "\n",
    "val_datagen = ImageDataGenerator(\n",
    "    preprocessing_function = center_image,\n",
    "    rescale = 1./255)\n",
    "\n",
    "train_generator = train_datagen.flow_from_directory(\n",
    "    train_path,\n",
    "    target_size = (224, 224),\n",
    "    batch_size = minibatch_size)\n",
    "\n",
    "val_generator = val_datagen.flow_from_directory(\n",
    "    val_path,\n",
    "    target_size = (224, 224),\n",
    "    batch_size = val_batch_size,\n",
    "    shuffle = False)"
   ]
  },
  {
   "cell_type": "markdown",
   "metadata": {},
   "source": [
    "## Train the model\n",
    "\n",
    "Keras will train the model for the specified number of epochs.  We need to tell it how many steps are in each epoch for training and validation and pass in our learning rate scheduler."
   ]
  },
  {
   "cell_type": "code",
   "execution_count": 14,
   "metadata": {
    "scrolled": true
   },
   "outputs": [
    {
     "name": "stdout",
     "output_type": "stream",
     "text": [
      "Epoch 1/80\n",
      "109/109 [==============================] - 1492s 14s/step - loss: 21.3446 - acc: 0.1946 - val_loss: 24.0894 - val_acc: 0.1486\n",
      "Epoch 2/80\n",
      "109/109 [==============================] - 1476s 14s/step - loss: 17.9195 - acc: 0.2747 - val_loss: 18.5271 - val_acc: 0.1884\n",
      "Epoch 3/80\n",
      "109/109 [==============================] - 1473s 14s/step - loss: 15.2909 - acc: 0.2843 - val_loss: 25.4266 - val_acc: 0.0922\n",
      "Epoch 4/80\n",
      "109/109 [==============================] - 1472s 14s/step - loss: 13.6407 - acc: 0.2762 - val_loss: 24.6322 - val_acc: 0.0121\n",
      "Epoch 5/80\n",
      "109/109 [==============================] - 1468s 13s/step - loss: 12.3986 - acc: 0.2709 - val_loss: 14.5380 - val_acc: 0.1077\n",
      "Epoch 6/80\n",
      "109/109 [==============================] - 1474s 14s/step - loss: 11.2461 - acc: 0.2929 - val_loss: 11.0053 - val_acc: 0.2851\n",
      "Epoch 7/80\n",
      "109/109 [==============================] - 1472s 14s/step - loss: 10.1953 - acc: 0.3250 - val_loss: 10.0186 - val_acc: 0.2604\n",
      "Epoch 8/80\n",
      "109/109 [==============================] - 1474s 14s/step - loss: 9.5285 - acc: 0.3324 - val_loss: 12.5937 - val_acc: 0.2408\n",
      "Epoch 9/80\n",
      "109/109 [==============================] - 1472s 14s/step - loss: 9.1784 - acc: 0.3351 - val_loss: 9.4279 - val_acc: 0.2592\n",
      "Epoch 10/80\n",
      "109/109 [==============================] - 1471s 13s/step - loss: 8.5845 - acc: 0.3670 - val_loss: 9.7605 - val_acc: 0.3145\n",
      "Epoch 11/80\n",
      "109/109 [==============================] - 1473s 14s/step - loss: 8.4580 - acc: 0.3463 - val_loss: 10.6067 - val_acc: 0.2298\n",
      "Epoch 12/80\n",
      "109/109 [==============================] - 1471s 13s/step - loss: 8.0159 - acc: 0.3572 - val_loss: 9.6837 - val_acc: 0.1457\n",
      "Epoch 13/80\n",
      "109/109 [==============================] - 1471s 13s/step - loss: 7.5544 - acc: 0.3876 - val_loss: 7.3037 - val_acc: 0.4009\n",
      "Epoch 14/80\n",
      "109/109 [==============================] - 1471s 13s/step - loss: 7.1347 - acc: 0.4119 - val_loss: 7.3582 - val_acc: 0.3762\n",
      "Epoch 15/80\n",
      "109/109 [==============================] - 1470s 13s/step - loss: 6.7523 - acc: 0.4293 - val_loss: 6.8637 - val_acc: 0.3819\n",
      "Epoch 16/80\n",
      "109/109 [==============================] - 1471s 13s/step - loss: 6.5325 - acc: 0.4361 - val_loss: 6.4517 - val_acc: 0.4055\n",
      "Epoch 17/80\n",
      "109/109 [==============================] - 1472s 14s/step - loss: 6.2332 - acc: 0.4592 - val_loss: 11.6257 - val_acc: 0.0472\n",
      "Epoch 18/80\n",
      "109/109 [==============================] - 1471s 13s/step - loss: 6.0583 - acc: 0.4635 - val_loss: 7.0109 - val_acc: 0.3629\n",
      "Epoch 19/80\n",
      "109/109 [==============================] - 1471s 13s/step - loss: 5.8151 - acc: 0.4651 - val_loss: 5.8719 - val_acc: 0.4441\n",
      "Epoch 20/80\n",
      "109/109 [==============================] - 1471s 13s/step - loss: 5.4896 - acc: 0.4891 - val_loss: 5.5870 - val_acc: 0.4793\n",
      "Epoch 21/80\n",
      "109/109 [==============================] - 1472s 14s/step - loss: 5.2358 - acc: 0.5145 - val_loss: 5.3614 - val_acc: 0.4868\n",
      "Epoch 22/80\n",
      "109/109 [==============================] - 1472s 14s/step - loss: 5.0298 - acc: 0.5285 - val_loss: 5.1994 - val_acc: 0.4942\n",
      "Epoch 23/80\n",
      "109/109 [==============================] - 1470s 13s/step - loss: 4.9164 - acc: 0.5299 - val_loss: 5.2431 - val_acc: 0.4862\n",
      "Epoch 24/80\n",
      "109/109 [==============================] - 1479s 14s/step - loss: 4.7195 - acc: 0.5430 - val_loss: 4.9957 - val_acc: 0.5046\n",
      "Epoch 25/80\n",
      "109/109 [==============================] - 1467s 13s/step - loss: 4.5617 - acc: 0.5559 - val_loss: 4.8778 - val_acc: 0.5012\n",
      "Epoch 26/80\n",
      "109/109 [==============================] - 1471s 13s/step - loss: 4.4027 - acc: 0.5717 - val_loss: 4.7330 - val_acc: 0.5190\n",
      "Epoch 27/80\n",
      "109/109 [==============================] - 1460s 13s/step - loss: 4.3078 - acc: 0.5771 - val_loss: 4.6218 - val_acc: 0.5288\n",
      "Epoch 28/80\n",
      "109/109 [==============================] - 1470s 13s/step - loss: 4.1871 - acc: 0.5869 - val_loss: 4.6524 - val_acc: 0.5156\n",
      "Epoch 29/80\n",
      "109/109 [==============================] - 1471s 13s/step - loss: 4.0295 - acc: 0.5991 - val_loss: 4.5129 - val_acc: 0.5374\n",
      "Epoch 30/80\n",
      "109/109 [==============================] - 1471s 13s/step - loss: 3.9084 - acc: 0.6081 - val_loss: 4.3727 - val_acc: 0.5444\n",
      "Epoch 31/80\n",
      "109/109 [==============================] - 1474s 14s/step - loss: 3.7895 - acc: 0.6207 - val_loss: 4.4031 - val_acc: 0.5461\n",
      "Epoch 32/80\n",
      "109/109 [==============================] - 1471s 13s/step - loss: 3.6611 - acc: 0.6363 - val_loss: 4.2038 - val_acc: 0.5565\n",
      "Epoch 33/80\n",
      "109/109 [==============================] - 1468s 13s/step - loss: 3.5879 - acc: 0.6447 - val_loss: 4.1600 - val_acc: 0.5588\n",
      "Epoch 34/80\n",
      "109/109 [==============================] - 1471s 13s/step - loss: 3.4970 - acc: 0.6441 - val_loss: 4.0533 - val_acc: 0.5668\n",
      "Epoch 35/80\n",
      "109/109 [==============================] - 1464s 13s/step - loss: 3.3980 - acc: 0.6651 - val_loss: 4.5844 - val_acc: 0.5035\n",
      "Epoch 36/80\n",
      "109/109 [==============================] - 1473s 14s/step - loss: 3.3763 - acc: 0.6592 - val_loss: 4.0983 - val_acc: 0.5565\n",
      "Epoch 37/80\n",
      "109/109 [==============================] - 1471s 13s/step - loss: 3.1722 - acc: 0.6953 - val_loss: 3.8329 - val_acc: 0.5853\n",
      "Epoch 38/80\n",
      "109/109 [==============================] - 1470s 13s/step - loss: 3.1044 - acc: 0.6986 - val_loss: 4.5724 - val_acc: 0.4401\n",
      "Epoch 39/80\n",
      "109/109 [==============================] - 1468s 13s/step - loss: 3.0243 - acc: 0.7071 - val_loss: 3.9056 - val_acc: 0.5783\n",
      "Epoch 40/80\n",
      "109/109 [==============================] - 1469s 13s/step - loss: 2.9358 - acc: 0.7188 - val_loss: 3.7387 - val_acc: 0.5933\n",
      "Epoch 41/80\n",
      "109/109 [==============================] - 1471s 13s/step - loss: 2.8349 - acc: 0.7346 - val_loss: 3.9056 - val_acc: 0.5467\n",
      "Epoch 42/80\n",
      "109/109 [==============================] - 1469s 13s/step - loss: 2.7424 - acc: 0.7489 - val_loss: 3.6201 - val_acc: 0.5956\n",
      "Epoch 43/80\n",
      "109/109 [==============================] - 1473s 14s/step - loss: 2.6624 - acc: 0.7541 - val_loss: 3.6620 - val_acc: 0.5997\n",
      "Epoch 44/80\n",
      "109/109 [==============================] - 1470s 13s/step - loss: 2.6285 - acc: 0.7551 - val_loss: 3.5906 - val_acc: 0.6020\n",
      "Epoch 45/80\n",
      "109/109 [==============================] - 1465s 13s/step - loss: 2.5043 - acc: 0.7812 - val_loss: 3.5642 - val_acc: 0.6037\n",
      "Epoch 46/80\n",
      "109/109 [==============================] - 1470s 13s/step - loss: 2.4282 - acc: 0.7960 - val_loss: 3.5801 - val_acc: 0.5933\n",
      "Epoch 47/80\n",
      "109/109 [==============================] - 1470s 13s/step - loss: 2.3763 - acc: 0.7979 - val_loss: 3.7467 - val_acc: 0.5853\n",
      "Epoch 48/80\n",
      "109/109 [==============================] - 1469s 13s/step - loss: 2.3429 - acc: 0.8043 - val_loss: 3.5071 - val_acc: 0.5991\n",
      "Epoch 49/80\n",
      "109/109 [==============================] - 1469s 13s/step - loss: 2.2292 - acc: 0.8281 - val_loss: 3.5984 - val_acc: 0.5783\n",
      "Epoch 50/80\n",
      "109/109 [==============================] - 1470s 13s/step - loss: 2.1891 - acc: 0.8199 - val_loss: 3.5113 - val_acc: 0.6112\n",
      "Epoch 51/80\n",
      "109/109 [==============================] - 1470s 13s/step - loss: 2.1527 - acc: 0.8297 - val_loss: 3.3537 - val_acc: 0.6037\n",
      "Epoch 52/80\n",
      "109/109 [==============================] - 1470s 13s/step - loss: 2.0584 - acc: 0.8521 - val_loss: 3.3432 - val_acc: 0.6227\n",
      "Epoch 53/80\n",
      "109/109 [==============================] - 1469s 13s/step - loss: 1.9988 - acc: 0.8531 - val_loss: 3.2265 - val_acc: 0.6325\n",
      "Epoch 54/80\n",
      "109/109 [==============================] - 1472s 14s/step - loss: 1.9481 - acc: 0.8667 - val_loss: 3.4361 - val_acc: 0.6020\n",
      "Epoch 55/80\n",
      "109/109 [==============================] - 1471s 13s/step - loss: 1.8992 - acc: 0.8760 - val_loss: 3.1481 - val_acc: 0.6446\n",
      "Epoch 56/80\n",
      "109/109 [==============================] - 1468s 13s/step - loss: 1.8476 - acc: 0.8883 - val_loss: 3.4232 - val_acc: 0.6164\n",
      "Epoch 57/80\n",
      "109/109 [==============================] - 1471s 13s/step - loss: 1.7911 - acc: 0.8927 - val_loss: 3.1945 - val_acc: 0.6319\n",
      "Epoch 58/80\n",
      "109/109 [==============================] - 1471s 13s/step - loss: 1.7486 - acc: 0.9015 - val_loss: 3.0992 - val_acc: 0.6492\n",
      "Epoch 59/80\n",
      "109/109 [==============================] - 1467s 13s/step - loss: 1.6908 - acc: 0.9141 - val_loss: 3.1319 - val_acc: 0.6463\n",
      "Epoch 60/80\n",
      "109/109 [==============================] - 1472s 14s/step - loss: 1.6514 - acc: 0.9185 - val_loss: 2.9375 - val_acc: 0.6688\n",
      "Epoch 61/80\n",
      "109/109 [==============================] - 1472s 14s/step - loss: 1.6017 - acc: 0.9277 - val_loss: 3.0218 - val_acc: 0.6573\n",
      "Epoch 62/80\n",
      "109/109 [==============================] - 1471s 13s/step - loss: 1.5766 - acc: 0.9333 - val_loss: 3.1874 - val_acc: 0.6221\n",
      "Epoch 63/80\n",
      "109/109 [==============================] - 1471s 13s/step - loss: 1.5327 - acc: 0.9379 - val_loss: 3.1040 - val_acc: 0.6567\n",
      "Epoch 64/80\n",
      "109/109 [==============================] - 1471s 13s/step - loss: 1.5063 - acc: 0.9406 - val_loss: 3.0489 - val_acc: 0.6613\n",
      "Epoch 65/80\n",
      "109/109 [==============================] - 1472s 14s/step - loss: 1.4730 - acc: 0.9449 - val_loss: 3.0473 - val_acc: 0.6601\n",
      "Epoch 66/80\n",
      "109/109 [==============================] - 1463s 13s/step - loss: 1.4346 - acc: 0.9514 - val_loss: 3.4921 - val_acc: 0.6210\n",
      "Epoch 67/80\n",
      "109/109 [==============================] - 1470s 13s/step - loss: 1.3951 - acc: 0.9599 - val_loss: 3.0069 - val_acc: 0.6573\n",
      "Epoch 68/80\n",
      "109/109 [==============================] - 1470s 13s/step - loss: 1.3684 - acc: 0.9620 - val_loss: 2.9120 - val_acc: 0.6642\n",
      "Epoch 69/80\n",
      "109/109 [==============================] - 1473s 14s/step - loss: 1.3445 - acc: 0.9665 - val_loss: 2.9303 - val_acc: 0.6676\n",
      "Epoch 70/80\n",
      "109/109 [==============================] - 1470s 13s/step - loss: 1.3165 - acc: 0.9710 - val_loss: 2.8471 - val_acc: 0.6705\n",
      "Epoch 71/80\n",
      "109/109 [==============================] - 1471s 13s/step - loss: 1.2876 - acc: 0.9741 - val_loss: 2.8895 - val_acc: 0.6745\n",
      "Epoch 72/80\n",
      "109/109 [==============================] - 1472s 14s/step - loss: 1.2694 - acc: 0.9766 - val_loss: 3.0909 - val_acc: 0.6244\n",
      "Epoch 73/80\n",
      "109/109 [==============================] - 1470s 13s/step - loss: 1.2472 - acc: 0.9800 - val_loss: 2.7981 - val_acc: 0.6866\n",
      "Epoch 74/80\n",
      "109/109 [==============================] - 1470s 13s/step - loss: 1.2190 - acc: 0.9851 - val_loss: 2.8170 - val_acc: 0.6838\n",
      "Epoch 75/80\n",
      "109/109 [==============================] - 1471s 13s/step - loss: 1.2098 - acc: 0.9856 - val_loss: 2.8193 - val_acc: 0.6843\n",
      "Epoch 76/80\n",
      "109/109 [==============================] - 1473s 14s/step - loss: 1.1942 - acc: 0.9852 - val_loss: 2.8091 - val_acc: 0.6815\n",
      "Epoch 77/80\n",
      "109/109 [==============================] - 1471s 13s/step - loss: 1.1788 - acc: 0.9895 - val_loss: 2.8277 - val_acc: 0.6832\n",
      "Epoch 78/80\n",
      "109/109 [==============================] - 1473s 14s/step - loss: 1.1654 - acc: 0.9920 - val_loss: 2.7624 - val_acc: 0.6953\n",
      "Epoch 79/80\n",
      "109/109 [==============================] - 1470s 13s/step - loss: 1.1617 - acc: 0.9910 - val_loss: 2.7694 - val_acc: 0.6953\n",
      "Epoch 80/80\n",
      "109/109 [==============================] - 1470s 13s/step - loss: 1.1530 - acc: 0.9927 - val_loss: 2.7607 - val_acc: 0.6964\n"
     ]
    }
   ],
   "source": [
    "history = resnet50_model.fit_generator(\n",
    "    train_generator,\n",
    "    steps_per_epoch = int(np.ceil(train_generator.n / minibatch_size)),\n",
    "    epochs = num_epochs,\n",
    "    validation_data = val_generator,\n",
    "    validation_steps = val_generator.n // val_batch_size,\n",
    "    callbacks = [learn_scheduler])"
   ]
  },
  {
   "cell_type": "markdown",
   "metadata": {},
   "source": [
    "## Plot loss, training accuracy, and validation accuracy"
   ]
  },
  {
   "cell_type": "code",
   "execution_count": 15,
   "metadata": {},
   "outputs": [
    {
     "data": {
      "text/plain": [
       "[<matplotlib.lines.Line2D at 0xb3aac3470>]"
      ]
     },
     "execution_count": 15,
     "metadata": {},
     "output_type": "execute_result"
    },
    {
     "data": {
      "image/png": "[encoded data removed]",
      "text/plain": [
       "<Figure size 432x288 with 1 Axes>"
      ]
     },
     "metadata": {
      "needs_background": "light"
     },
     "output_type": "display_data"
    }
   ],
   "source": [
    "plt.plot(list(range(1, num_epochs+1)), history.history[\"loss\"])"
   ]
  },
  {
   "cell_type": "code",
   "execution_count": 16,
   "metadata": {},
   "outputs": [
    {
     "data": {
      "text/plain": [
       "[<matplotlib.lines.Line2D at 0xb3aa6ed30>]"
      ]
     },
     "execution_count": 16,
     "metadata": {},
     "output_type": "execute_result"
    },
    {
     "data": {
      "image/png": "[encoded data removed]",
      "text/plain": [
       "<Figure size 432x288 with 1 Axes>"
      ]
     },
     "metadata": {
      "needs_background": "light"
     },
     "output_type": "display_data"
    }
   ],
   "source": [
    "plt.plot(list(range(1, num_epochs+1)), history.history[\"acc\"])"
   ]
  },
  {
   "cell_type": "code",
   "execution_count": 17,
   "metadata": {},
   "outputs": [
    {
     "data": {
      "text/plain": [
       "[<matplotlib.lines.Line2D at 0xb2f8674e0>]"
      ]
     },
     "execution_count": 17,
     "metadata": {},
     "output_type": "execute_result"
    },
    {
     "data": {
      "image/png": "[encoded data removed]",
      "text/plain": [
       "<Figure size 432x288 with 1 Axes>"
      ]
     },
     "metadata": {
      "needs_background": "light"
     },
     "output_type": "display_data"
    }
   ],
   "source": [
    "plt.plot(list(range(1, num_epochs+1)), history.history[\"val_acc\"])"
   ]
  },
  {
   "cell_type": "markdown",
   "metadata": {},
   "source": [
    "## Evaluate accuracy (top-1 accuracy)"
   ]
  },
  {
   "cell_type": "code",
   "execution_count": 18,
   "metadata": {},
   "outputs": [],
   "source": [
    "val_predictions_probs = resnet50_model.predict_generator(val_generator)\n",
    "val_predictions_class = val_predictions_probs.argmax(axis=-1)\n",
    "val_truth = val_generator.classes\n",
    "num_correct = np.zeros(num_classes)\n",
    "num_class = np.zeros(num_classes)\n",
    "for i in range(val_generator.n):\n",
    "    truth = val_truth[i]\n",
    "    pred = val_predictions_class[i]\n",
    "    num_class[truth] += 1\n",
    "    if pred == truth:\n",
    "        num_correct[pred] += 1\n",
    "\n",
    "acc_per_class = [num_correct[i]/num_class[i] for i in range(num_classes)]"
   ]
  },
  {
   "cell_type": "code",
   "execution_count": 19,
   "metadata": {},
   "outputs": [
    {
     "name": "stdout",
     "output_type": "stream",
     "text": [
      "Overall accuracy: 0.6964285714285714\n",
      "Average accuracy per class: 0.5507699582975027\n"
     ]
    }
   ],
   "source": [
    "print(\"Overall accuracy: \" + str(np.sum(num_correct) / val_generator.n))\n",
    "print(\"Average accuracy per class: \" + str(np.mean(acc_per_class)))"
   ]
  },
  {
   "cell_type": "markdown",
   "metadata": {},
   "source": [
    "## Evaluate top-5 accuracy"
   ]
  },
  {
   "cell_type": "code",
   "execution_count": 20,
   "metadata": {},
   "outputs": [],
   "source": [
    "val_predictions_top5 = []\n",
    "for i in range(val_generator.n):\n",
    "    preds = np.vstack((np.arange(num_classes), val_predictions_probs[i,:]))\n",
    "    top5 = set(preds[:, preds[1,:].argsort()][0, -5:])\n",
    "    val_predictions_top5.append(top5)\n",
    "    \n",
    "num_correct_top5 = np.zeros(num_classes)\n",
    "num_class_top5 = np.zeros(num_classes)\n",
    "for i in range(val_generator.n):\n",
    "    truth = val_truth[i]\n",
    "    pred_top5 = val_predictions_top5[i]\n",
    "    num_class_top5[truth] += 1\n",
    "    if truth in pred_top5:\n",
    "        num_correct_top5[truth] += 1\n",
    "\n",
    "acc_per_class_top5 = [num_correct_top5[i]/num_class_top5[i] for i in range(num_classes)]"
   ]
  },
  {
   "cell_type": "code",
   "execution_count": 21,
   "metadata": {},
   "outputs": [
    {
     "name": "stdout",
     "output_type": "stream",
     "text": [
      "Overall accuracy: 0.8519585253456221\n",
      "Average accuracy per class: 0.7709148855359382\n"
     ]
    }
   ],
   "source": [
    "print(\"Overall accuracy: \" + str(np.sum(num_correct_top5) / val_generator.n))\n",
    "print(\"Average accuracy per class: \" + str(np.mean(acc_per_class_top5)))"
   ]
  },
  {
   "cell_type": "markdown",
   "metadata": {},
   "source": [
    "## Final thoughts\n",
    "\n",
    "We can see that overall accuracy lags behind the average accuracy per class.  Below, we examine the classwise top-1 accuracy alongside the number of validation images in that class sorted from most images to least.  The top six classes account for a third of the total number of validation images, and the accuracy on these classes is very high.  This is unsurprising, as the classes with the most validation images have the most data to train on (training images)."
   ]
  },
  {
   "cell_type": "code",
   "execution_count": 22,
   "metadata": {
    "scrolled": true
   },
   "outputs": [
    {
     "name": "stdout",
     "output_type": "stream",
     "text": [
      "\u001b[1m    Accuracy   Images per class\u001b[0m\n",
      "[[  0.9875     160.        ]\n",
      " [  0.975      160.        ]\n",
      " [  0.98850575  87.        ]\n",
      " [  0.96551724  87.        ]\n",
      " [  0.91666667  48.        ]\n",
      " [  1.          40.        ]\n",
      " [  0.65384615  26.        ]\n",
      " [  1.          25.        ]\n",
      " [  0.73913043  23.        ]\n",
      " [  0.9047619   21.        ]\n",
      " [  0.6         20.        ]\n",
      " [  0.8         20.        ]\n",
      " [  0.55        20.        ]\n",
      " [  0.44444444  18.        ]\n",
      " [  0.55555556  18.        ]\n",
      " [  0.47058824  17.        ]\n",
      " [  0.47058824  17.        ]\n",
      " [  0.47058824  17.        ]\n",
      " [  0.82352941  17.        ]\n",
      " [  0.47058824  17.        ]\n",
      " [  0.64705882  17.        ]\n",
      " [  0.52941176  17.        ]\n",
      " [  0.88235294  17.        ]\n",
      " [  0.5625      16.        ]\n",
      " [  0.9375      16.        ]\n",
      " [  0.5         16.        ]\n",
      " [  0.75        16.        ]\n",
      " [  0.33333333  15.        ]\n",
      " [  0.6         15.        ]\n",
      " [  0.93333333  15.        ]\n",
      " [  0.2         15.        ]\n",
      " [  0.28571429  14.        ]\n",
      " [  0.5         14.        ]\n",
      " [  0.57142857  14.        ]\n",
      " [  0.61538462  13.        ]\n",
      " [  0.76923077  13.        ]\n",
      " [  0.61538462  13.        ]\n",
      " [  0.84615385  13.        ]\n",
      " [  0.30769231  13.        ]\n",
      " [  0.53846154  13.        ]\n",
      " [  0.84615385  13.        ]\n",
      " [  0.76923077  13.        ]\n",
      " [  0.53846154  13.        ]\n",
      " [  0.46153846  13.        ]\n",
      " [  0.61538462  13.        ]\n",
      " [  0.66666667  12.        ]\n",
      " [  0.25        12.        ]\n",
      " [  0.91666667  12.        ]\n",
      " [  0.5         12.        ]\n",
      " [  0.91666667  12.        ]\n",
      " [  0.25        12.        ]\n",
      " [  0.5         12.        ]\n",
      " [  0.18181818  11.        ]\n",
      " [  0.27272727  11.        ]\n",
      " [  0.90909091  11.        ]\n",
      " [  0.27272727  11.        ]\n",
      " [  1.          11.        ]\n",
      " [  0.72727273  11.        ]\n",
      " [  0.45454545  11.        ]\n",
      " [  0.27272727  11.        ]\n",
      " [  0.63636364  11.        ]\n",
      " [  0.09090909  11.        ]\n",
      " [  0.9         10.        ]\n",
      " [  0.1         10.        ]\n",
      " [  0.7         10.        ]\n",
      " [  0.1         10.        ]\n",
      " [  0.6         10.        ]\n",
      " [  0.7         10.        ]\n",
      " [  0.4         10.        ]\n",
      " [  0.44444444   9.        ]\n",
      " [  0.33333333   9.        ]\n",
      " [  0.22222222   9.        ]\n",
      " [  0.33333333   9.        ]\n",
      " [  0.66666667   9.        ]\n",
      " [  0.11111111   9.        ]\n",
      " [  0.44444444   9.        ]\n",
      " [  0.66666667   9.        ]\n",
      " [  0.11111111   9.        ]\n",
      " [  0.55555556   9.        ]\n",
      " [  0.22222222   9.        ]\n",
      " [  0.5          8.        ]\n",
      " [  0.375        8.        ]\n",
      " [  0.5          8.        ]\n",
      " [  0.75         8.        ]\n",
      " [  0.25         8.        ]\n",
      " [  0.375        8.        ]\n",
      " [  0.375        8.        ]\n",
      " [  0.25         8.        ]\n",
      " [  0.75         8.        ]\n",
      " [  0.25         8.        ]\n",
      " [  0.28571429   7.        ]\n",
      " [  0.42857143   7.        ]\n",
      " [  0.28571429   7.        ]\n",
      " [  0.28571429   7.        ]\n",
      " [  0.28571429   7.        ]\n",
      " [  0.57142857   7.        ]\n",
      " [  0.14285714   7.        ]\n",
      " [  0.42857143   7.        ]\n",
      " [  1.           7.        ]\n",
      " [  0.5          6.        ]\n",
      " [  0.66666667   6.        ]]\n"
     ]
    }
   ],
   "source": [
    "table_out = np.vstack((acc_per_class, num_class)).transpose()\n",
    "table_out = table_out[table_out[:,1].argsort()]\n",
    "np.set_printoptions(suppress = True)\n",
    "print(\"\\033[1m\" + \"    Accuracy   Images per class\" + \"\\033[0m\")\n",
    "print(np.flip(table_out, axis = 0))"
   ]
  }
 ],
 "metadata": {
  "kernelspec": {
   "display_name": "Python 3",
   "language": "python",
   "name": "python3"
  },
  "language_info": {
   "codemirror_mode": {
    "name": "ipython",
    "version": 3
   },
   "file_extension": ".py",
   "mimetype": "text/x-python",
   "name": "python",
   "nbconvert_exporter": "python",
   "pygments_lexer": "ipython3",
   "version": "3.6.8"
  }
 },
 "nbformat": 4,
 "nbformat_minor": 2
}
