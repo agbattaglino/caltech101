{
 "cells": [
  {
   "cell_type": "code",
   "execution_count": 1,
   "metadata": {},
   "outputs": [
    {
     "name": "stderr",
     "output_type": "stream",
     "text": [
      "Using TensorFlow backend.\n"
     ]
    }
   ],
   "source": [
    "import os\n",
    "import numpy as np\n",
    "\n",
    "from keras.utils import to_categorical\n",
    "from keras.layers import (\n",
    "    Input,\n",
    "    Add,\n",
    "    Dense,\n",
    "    Activation,\n",
    "    ZeroPadding2D,\n",
    "    BatchNormalization,\n",
    "    Conv2D,\n",
    "    MaxPooling2D,\n",
    "    GlobalAveragePooling2D\n",
    ")\n",
    "from keras.models import Model\n",
    "from keras.regularizers import l2\n",
    "from keras.optimizers import Adam\n",
    "from keras.preprocessing.image import ImageDataGenerator\n",
    "import matplotlib.pyplot as plt"
   ]
  },
  {
   "cell_type": "code",
   "execution_count": 2,
   "metadata": {},
   "outputs": [],
   "source": [
    "# Hyperparameters\n",
    "base_path = \"/Users/alex/Downloads/\"\n",
    "split = .8\n",
    "\n",
    "num_classes = 101\n",
    "learning_rate = .001\n",
    "\n",
    "num_epochs = 20\n",
    "minibatch_size = 64\n",
    "val_batch_size = 56"
   ]
  },
  {
   "cell_type": "code",
   "execution_count": 10,
   "metadata": {},
   "outputs": [],
   "source": [
    "raw_path = base_path + \"101_ObjectCategories/\"\n",
    "train_path = base_path + \"caltech_data/train/\"\n",
    "val_path = base_path + \"caltech_data/val/\""
   ]
  },
  {
   "cell_type": "code",
   "execution_count": null,
   "metadata": {},
   "outputs": [],
   "source": [
    "# Split images into training and testing\n",
    "os.chdir(base_path)\n",
    "!mkdir -p caltech_data/train\n",
    "!mkdir -p caltech_data/val\n",
    "os.chdir(raw_path)\n",
    "for directory in os.listdir(raw_path):\n",
    "    if directory == \".DS_Store\" or directory == \"BACKGROUND_Google\":\n",
    "        continue\n",
    "    class_dict[class_num] = directory\n",
    "    image_files = os.listdir(raw_path + directory + \"/\")\n",
    "    num_images_cat = len(image_files)\n",
    "    image_files = np.random.permutation(image_files)\n",
    "    num_train_cat = int(np.round(split * num_images_cat))\n",
    "    num_val_cat = num_images_cat - num_train_cat\n",
    "    !mkdir ../caltech_data/train/{directory}\n",
    "    !mkdir ../caltech_data/val/{directory}\n",
    "    for i in range(num_train_cat):\n",
    "        origin_path = raw_path + directory + \"/\" + image_files[i]\n",
    "        destination_path = train_path + directory + \"/\" + image_files[i]\n",
    "        !cp {origin_path} {destination_path}\n",
    "    for i in range(num_val_cat):\n",
    "        origin_path = raw_path + directory + \"/\" + image_files[num_train_cat + i]\n",
    "        destination_path = val_path + directory + \"/\" + image_files[num_train_cat + i]\n",
    "        !cp {origin_path} {destination_path}"
   ]
  },
  {
   "cell_type": "code",
   "execution_count": 5,
   "metadata": {},
   "outputs": [
    {
     "name": "stdout",
     "output_type": "stream",
     "text": [
      "Read through 10 classes.\n",
      "Read through 20 classes.\n",
      "Read through 30 classes.\n",
      "Read through 40 classes.\n",
      "Read through 50 classes.\n",
      "Read through 60 classes.\n",
      "Read through 70 classes.\n",
      "Read through 80 classes.\n",
      "Read through 90 classes.\n",
      "Read through 100 classes.\n",
      "Done.\n"
     ]
    }
   ],
   "source": [
    "#images_train = np.array([]).reshape(0, 224, 224, 3)\n",
    "#images_val = np.array([]).reshape(0, 224, 224, 3)\n",
    "#target_train_flat = np.array([])\n",
    "#target_val_flat = np.array([])\n",
    "#class_num = 0\n",
    "#for directory in os.listdir(path):\n",
    "#    if directory == \".DS_Store\" or directory == \"BACKGROUND_Google\":\n",
    "#        continue\n",
    "#    dir_imgs = np.array([]).reshape(0, 224, 224, 3)\n",
    "#    for filename in os.listdir(path + directory):\n",
    "#        if filename == \"tmp\":\n",
    "#            continue\n",
    "#        dir_imgs = np.append(dir_imgs, cv2.resize(cv2.imread(path + directory + \"/\" + filename), (224, 224)).reshape(1, 224, 224, 3), axis = 0)\n",
    "#    num_img_cat = dir_imgs.shape[0]\n",
    "#    num_train_cat = int(np.round(split * num_img_cat))\n",
    "#    num_val_cat = num_img_cat - num_train_cat\n",
    "#    random_idx = np.random.permutation(num_img_cat)\n",
    "#    dir_imgs = dir_imgs[random_idx,:,:,:]\n",
    "#    dir_imgs_train = dir_imgs[0:num_train_cat,:,:,:]\n",
    "#    dir_imgs_val = dir_imgs[num_train_cat:,:,:,:]\n",
    "#    images_val = np.append(images_val, dir_imgs_val, axis=0)\n",
    "#    target_val_flat = np.append(target_val_flat, np.full(num_val_cat, class_num))\n",
    "#    if num_train_cat >= num_per_cat:\n",
    "#        images_train = np.append(images_train, dir_imgs_train[0:num_per_cat,:,:,:], axis=0)\n",
    "#        target_train_flat = np.append(target_train_flat, np.full(num_per_cat, class_num))\n",
    "#    else:\n",
    "#        num_mult = num_per_cat // num_train_cat\n",
    "#        num_remain = num_per_cat % num_train_cat\n",
    "#        new_idx = np.concatenate((np.repeat(range(num_train_cat), num_mult),\n",
    "#                                  np.random.choice(num_train_cat, num_remain, replace=False)))\n",
    "#        images_train = np.append(images_train, dir_imgs_train[new_idx,:,:,:], axis=0)\n",
    "#        target_train_flat = np.append(target_train_flat, np.full(num_per_cat, class_num))\n",
    "#    class_num += 1\n",
    "#    if class_num % 10 == 0:\n",
    "#        print(\"Read through \" + str(class_num) + \" classes.\")\n",
    "#\n",
    "#target_train = to_categorical(target_train_flat)\n",
    "#target_val = to_categorical(target_val_flat)\n",
    "#bgr_mean = images_train.mean(axis=(0,1,2))\n",
    "#print(\"Done.\")"
   ]
  },
  {
   "cell_type": "code",
   "execution_count": 6,
   "metadata": {},
   "outputs": [
    {
     "name": "stdout",
     "output_type": "stream",
     "text": [
      "(6060, 224, 224, 3)\n",
      "(6060, 101)\n",
      "(1736, 224, 224, 3)\n",
      "(1736, 101)\n"
     ]
    }
   ],
   "source": [
    "#print(images_train.shape)\n",
    "#print(target_train.shape)\n",
    "#print(images_val.shape)\n",
    "#print(target_val.shape)\n",
    "#num_train = images_train.shape[0]\n",
    "#num_val = images_val.shape[0]"
   ]
  },
  {
   "cell_type": "code",
   "execution_count": 3,
   "metadata": {},
   "outputs": [],
   "source": [
    "# Identity residual block\n",
    "def id_block(X, filters, block_num):\n",
    "    X_cut = X\n",
    "    \n",
    "    X = Conv2D(filters[0], [1, 1], strides = [1, 1], padding = \"same\",\n",
    "               kernel_regularizer = l2(.0001),\n",
    "               name = \"conv_\" + str(block_num) + \"_1\")(X)\n",
    "    X = BatchNormalization(name = \"bn_\" + str(block_num) + \"_1\")(X)\n",
    "    X = Activation(\"relu\")(X)\n",
    "    \n",
    "    X = Conv2D(filters[0], [3, 3], strides = [1, 1], padding = \"same\",\n",
    "               kernel_regularizer = l2(.0001),\n",
    "               name = \"conv_\" + str(block_num) + \"_2\")(X)\n",
    "    X = BatchNormalization(name = \"bn_\" + str(block_num) + \"_2\")(X)\n",
    "    X = Activation(\"relu\")(X)\n",
    "    \n",
    "    X = Conv2D(filters[1], [1, 1], strides = [1, 1], padding = \"same\",\n",
    "               kernel_regularizer = l2(.0001),\n",
    "               name = \"conv_\" + str(block_num) + \"_3\")(X)\n",
    "    X = BatchNormalization(name = \"bn_\" + str(block_num) + \"_3\")(X)\n",
    "    X = Activation(\"relu\")(X)\n",
    "\n",
    "    X = Add()([X, X_cut])\n",
    "    X = Activation(\"relu\")(X)\n",
    "    \n",
    "    return X"
   ]
  },
  {
   "cell_type": "code",
   "execution_count": 4,
   "metadata": {},
   "outputs": [],
   "source": [
    "# Convolutional residual block\n",
    "def conv_block(X, filters, s, block_num):\n",
    "    X_cut = X\n",
    "    \n",
    "    X = Conv2D(filters[0], [1, 1], strides = [s, s], padding = \"same\",\n",
    "               kernel_regularizer = l2(.0001),\n",
    "               name = \"conv_\" + str(block_num) + \"_1\")(X)\n",
    "    X = BatchNormalization(name = \"bn_\" + str(block_num) + \"_1\")(X)\n",
    "    X = Activation(\"relu\")(X)\n",
    "    \n",
    "    X = Conv2D(filters[0], [3, 3], strides = [1, 1], padding = \"same\",\n",
    "               kernel_regularizer = l2(.0001),\n",
    "               name = \"conv_\" + str(block_num) + \"_2\")(X)\n",
    "    X = BatchNormalization(name = \"bn_\" + str(block_num) + \"_2\")(X)\n",
    "    X = Activation(\"relu\")(X)\n",
    "    \n",
    "    X = Conv2D(filters[1], [1, 1], strides = [1, 1], padding = \"same\",\n",
    "               kernel_regularizer = l2(.0001),\n",
    "               name = \"conv_\" + str(block_num) + \"_3\")(X)\n",
    "    X = BatchNormalization(name = \"bn_\" + str(block_num) + \"_3\")(X)\n",
    "    X = Activation(\"relu\")(X)\n",
    "    \n",
    "    X_cut = Conv2D(filters[1], [1, 1], strides = [s, s], padding = \"same\",\n",
    "                   kernel_regularizer = l2(.0001),\n",
    "                   name = \"conv_\" + str(block_num) + \"_cut\")(X_cut)\n",
    "    X_cut = BatchNormalization(name = \"bn_\" + str(block_num) + \"_cut\")(X_cut)\n",
    "    \n",
    "    X = Add()([X, X_cut])\n",
    "    X = Activation(\"relu\")(X)\n",
    "    \n",
    "    return X"
   ]
  },
  {
   "cell_type": "code",
   "execution_count": 5,
   "metadata": {},
   "outputs": [],
   "source": [
    "# ResNet50 architecture\n",
    "def ResNet50(input_shape, num_classes):\n",
    "    X_input = Input(input_shape)\n",
    "    \n",
    "    # Phase 1\n",
    "    X = Conv2D(64, [7, 7], strides = [2, 2], padding = \"same\",\n",
    "               kernel_regularizer = l2(.0001),\n",
    "               name = \"conv_1\")(X_input)\n",
    "    X = BatchNormalization(name = \"bn_1\")(X)\n",
    "    X = Activation(\"relu\")(X)\n",
    "    X = MaxPooling2D([3, 3], strides=[2, 2], padding = \"same\")(X)\n",
    "    \n",
    "    # Phase 2\n",
    "    X = conv_block(X, [64, 256], s = 2, block_num = 2)\n",
    "    X = id_block(X, [64, 256], block_num = 3)\n",
    "    X = id_block(X, [64, 256], block_num = 4)\n",
    "    \n",
    "    # Phase 3\n",
    "    X = conv_block(X, [128, 512], s = 2, block_num = 5)\n",
    "    X = id_block(X, [128, 512], block_num = 6)\n",
    "    X = id_block(X, [128, 512], block_num = 7)\n",
    "    X = id_block(X, [128, 512], block_num = 8)\n",
    "    \n",
    "    # Phase 4\n",
    "    X = conv_block(X, [256, 1024], s = 2, block_num = 9)\n",
    "    X = id_block(X, [256, 1024], block_num = 10)\n",
    "    X = id_block(X, [256, 1024], block_num = 11)\n",
    "    X = id_block(X, [256, 1024], block_num = 12)\n",
    "    X = id_block(X, [256, 1024], block_num = 13)\n",
    "    X = id_block(X, [256, 1024], block_num = 14)\n",
    "    \n",
    "    # Phase 5\n",
    "    X = conv_block(X, [512, 2048], s = 2, block_num = 15)\n",
    "    X = id_block(X, [512, 2048], block_num = 16)\n",
    "    X = id_block(X, [512, 2048], block_num = 17)\n",
    "    \n",
    "    # Pool and softmax\n",
    "    X = GlobalAveragePooling2D()(X)\n",
    "    X = Dense(num_classes, activation = \"softmax\", name = \"softmax\")(X)\n",
    "    \n",
    "    model = Model(inputs = X_input, outputs = X, name = \"ResNet50\")\n",
    "\n",
    "    return model"
   ]
  },
  {
   "cell_type": "code",
   "execution_count": 6,
   "metadata": {},
   "outputs": [],
   "source": [
    "resnet50_model = ResNet50(input_shape = (224, 224, 3), num_classes = num_classes)"
   ]
  },
  {
   "cell_type": "code",
   "execution_count": 7,
   "metadata": {},
   "outputs": [],
   "source": [
    "adam = Adam(lr = learning_rate)\n",
    "resnet50_model.compile(optimizer = adam, loss = 'categorical_crossentropy', metrics = ['accuracy'])"
   ]
  },
  {
   "cell_type": "code",
   "execution_count": 8,
   "metadata": {},
   "outputs": [],
   "source": [
    "rgb_mean = [138.95, 132.34, 124.39]\n",
    "def center_image(image):    \n",
    "    image[:,:,0] -= rgb_mean[0]\n",
    "    image[:,:,1] -= rgb_mean[1]\n",
    "    image[:,:,2] -= rgb_mean[2]\n",
    "    return image"
   ]
  },
  {
   "cell_type": "code",
   "execution_count": 11,
   "metadata": {},
   "outputs": [
    {
     "name": "stdout",
     "output_type": "stream",
     "text": [
      "Found 6941 images belonging to 101 classes.\n",
      "Found 1736 images belonging to 101 classes.\n"
     ]
    }
   ],
   "source": [
    "train_datagen = ImageDataGenerator(\n",
    "    rotation_range = 20,\n",
    "    width_shift_range = 0.2,\n",
    "    height_shift_range = 0.2,\n",
    "    shear_range = 0.2,\n",
    "    zoom_range = 0.2,\n",
    "    horizontal_flip = True,\n",
    "    preprocessing_function = center_image,\n",
    "    rescale = 1./255)\n",
    "\n",
    "val_datagen = ImageDataGenerator(\n",
    "    preprocessing_function = center_image,\n",
    "    rescale = 1./255)\n",
    "\n",
    "train_generator = train_datagen.flow_from_directory(\n",
    "        train_path,\n",
    "        target_size = (224, 224),\n",
    "        batch_size = minibatch_size)\n",
    "\n",
    "val_generator = val_datagen.flow_from_directory(\n",
    "        val_path,\n",
    "        target_size = (224, 224),\n",
    "        batch_size = val_batch_size,\n",
    "        shuffle=False)"
   ]
  },
  {
   "cell_type": "code",
   "execution_count": 12,
   "metadata": {
    "scrolled": true
   },
   "outputs": [
    {
     "name": "stdout",
     "output_type": "stream",
     "text": [
      "Epoch 1/20\n",
      "109/109 [==============================] - 1498s 14s/step - loss: 6.5729 - acc: 0.1399 - val_loss: 6.4642 - val_acc: 0.1636\n",
      "Epoch 2/20\n",
      "109/109 [==============================] - 1488s 14s/step - loss: 5.9674 - acc: 0.1899 - val_loss: 7.3871 - val_acc: 0.1532\n",
      "Epoch 3/20\n",
      "109/109 [==============================] - 1486s 14s/step - loss: 5.8111 - acc: 0.2148 - val_loss: 5.3762 - val_acc: 0.2368\n",
      "Epoch 4/20\n",
      "109/109 [==============================] - 1484s 14s/step - loss: 5.3478 - acc: 0.2479 - val_loss: 5.0782 - val_acc: 0.2373\n",
      "Epoch 5/20\n",
      "109/109 [==============================] - 1483s 14s/step - loss: 5.0462 - acc: 0.2782 - val_loss: 5.1144 - val_acc: 0.2074\n",
      "Epoch 6/20\n",
      "109/109 [==============================] - 1484s 14s/step - loss: 5.0376 - acc: 0.2771 - val_loss: 6.9063 - val_acc: 0.2137\n",
      "Epoch 7/20\n",
      "109/109 [==============================] - 1484s 14s/step - loss: 4.6677 - acc: 0.3074 - val_loss: 4.6306 - val_acc: 0.2921\n",
      "Epoch 8/20\n",
      "109/109 [==============================] - 1486s 14s/step - loss: 4.4482 - acc: 0.3276 - val_loss: 4.2670 - val_acc: 0.3445\n",
      "Epoch 9/20\n",
      "109/109 [==============================] - 1486s 14s/step - loss: 4.5518 - acc: 0.3309 - val_loss: 4.7347 - val_acc: 0.2615\n",
      "Epoch 10/20\n",
      "109/109 [==============================] - 1484s 14s/step - loss: 4.3168 - acc: 0.3539 - val_loss: 6.6593 - val_acc: 0.2483\n",
      "Epoch 11/20\n",
      "109/109 [==============================] - 1486s 14s/step - loss: 4.4754 - acc: 0.3283 - val_loss: 7.9898 - val_acc: 0.2281\n",
      "Epoch 12/20\n",
      "109/109 [==============================] - 1485s 14s/step - loss: 4.2155 - acc: 0.3646 - val_loss: 6.2037 - val_acc: 0.2673\n",
      "Epoch 13/20\n",
      "109/109 [==============================] - 1488s 14s/step - loss: 4.0277 - acc: 0.3846 - val_loss: 4.0300 - val_acc: 0.3698\n",
      "Epoch 14/20\n",
      "109/109 [==============================] - 1483s 14s/step - loss: 4.0575 - acc: 0.3865 - val_loss: 4.3895 - val_acc: 0.3168\n",
      "Epoch 15/20\n",
      "109/109 [==============================] - 1483s 14s/step - loss: 3.8016 - acc: 0.4045 - val_loss: 3.8528 - val_acc: 0.3831\n",
      "Epoch 16/20\n",
      "109/109 [==============================] - 1487s 14s/step - loss: 3.9289 - acc: 0.3934 - val_loss: 16.8066 - val_acc: 0.0086\n",
      "Epoch 17/20\n",
      "109/109 [==============================] - 1482s 14s/step - loss: 4.1219 - acc: 0.3783 - val_loss: 16.9604 - val_acc: 0.0063\n",
      "Epoch 18/20\n",
      "109/109 [==============================] - 1485s 14s/step - loss: 4.4146 - acc: 0.3485 - val_loss: 4.8919 - val_acc: 0.2477\n",
      "Epoch 19/20\n",
      "109/109 [==============================] - 1484s 14s/step - loss: 3.9341 - acc: 0.4006 - val_loss: 4.2711 - val_acc: 0.2990\n",
      "Epoch 20/20\n",
      "109/109 [==============================] - 1486s 14s/step - loss: 3.8042 - acc: 0.4153 - val_loss: 5.4806 - val_acc: 0.2627\n"
     ]
    }
   ],
   "source": [
    "history_1 = resnet50_model.fit_generator(train_generator,\n",
    "                                         steps_per_epoch = int(np.ceil(6941 / minibatch_size)),\n",
    "                                         epochs = num_epochs,\n",
    "                                         validation_data = val_generator,\n",
    "                                         validation_steps = 1736 // val_batch_size)"
   ]
  },
  {
   "cell_type": "code",
   "execution_count": 13,
   "metadata": {
    "scrolled": true
   },
   "outputs": [
    {
     "name": "stdout",
     "output_type": "stream",
     "text": [
      "Epoch 1/20\n",
      "109/109 [==============================] - 1483s 14s/step - loss: 3.8055 - acc: 0.4155 - val_loss: 11.2191 - val_acc: 0.0565\n",
      "Epoch 2/20\n",
      "109/109 [==============================] - 1480s 14s/step - loss: 4.0407 - acc: 0.3580 - val_loss: 14.9658 - val_acc: 0.0196\n",
      "Epoch 3/20\n",
      "109/109 [==============================] - 1485s 14s/step - loss: 4.9325 - acc: 0.2821 - val_loss: 15.7896 - val_acc: 0.0046\n",
      "Epoch 4/20\n",
      "109/109 [==============================] - 1486s 14s/step - loss: 4.6443 - acc: 0.3277 - val_loss: 4.9763 - val_acc: 0.2535\n",
      "Epoch 5/20\n",
      "109/109 [==============================] - 1482s 14s/step - loss: 4.2762 - acc: 0.3709 - val_loss: 4.6935 - val_acc: 0.3255\n",
      "Epoch 6/20\n",
      "109/109 [==============================] - 1478s 14s/step - loss: 4.3668 - acc: 0.3749 - val_loss: 5.1564 - val_acc: 0.2137\n",
      "Epoch 7/20\n",
      "109/109 [==============================] - 1482s 14s/step - loss: 4.7478 - acc: 0.3221 - val_loss: 11.0263 - val_acc: 0.0789\n",
      "Epoch 8/20\n",
      "109/109 [==============================] - 1486s 14s/step - loss: 4.5698 - acc: 0.3299 - val_loss: 6.7676 - val_acc: 0.0985\n",
      "Epoch 9/20\n",
      "109/109 [==============================] - 1483s 14s/step - loss: 4.3583 - acc: 0.3592 - val_loss: 5.6721 - val_acc: 0.1440\n",
      "Epoch 10/20\n",
      "109/109 [==============================] - 1484s 14s/step - loss: 4.2004 - acc: 0.3785 - val_loss: 6.9691 - val_acc: 0.1665\n",
      "Epoch 11/20\n",
      "109/109 [==============================] - 1486s 14s/step - loss: 3.9560 - acc: 0.4131 - val_loss: 4.5557 - val_acc: 0.2656\n",
      "Epoch 12/20\n",
      "109/109 [==============================] - 1488s 14s/step - loss: 3.8141 - acc: 0.4277 - val_loss: 4.5665 - val_acc: 0.2817\n",
      "Epoch 13/20\n",
      "109/109 [==============================] - 1491s 14s/step - loss: 3.8679 - acc: 0.4166 - val_loss: 3.9880 - val_acc: 0.3848\n",
      "Epoch 14/20\n",
      "109/109 [==============================] - 1488s 14s/step - loss: 3.6264 - acc: 0.4508 - val_loss: 3.8311 - val_acc: 0.3641\n",
      "Epoch 15/20\n",
      "109/109 [==============================] - 1480s 14s/step - loss: 3.5393 - acc: 0.4663 - val_loss: 3.8393 - val_acc: 0.3819\n",
      "Epoch 16/20\n",
      "109/109 [==============================] - 1485s 14s/step - loss: 3.3932 - acc: 0.4725 - val_loss: 4.2086 - val_acc: 0.3214\n",
      "Epoch 17/20\n",
      "109/109 [==============================] - 1484s 14s/step - loss: 3.3378 - acc: 0.4824 - val_loss: 4.1021 - val_acc: 0.3226\n",
      "Epoch 18/20\n",
      "109/109 [==============================] - 1499s 14s/step - loss: 3.4459 - acc: 0.4709 - val_loss: 12.7971 - val_acc: 0.0576\n",
      "Epoch 19/20\n",
      "109/109 [==============================] - 1483s 14s/step - loss: 3.6698 - acc: 0.4340 - val_loss: 5.3065 - val_acc: 0.2166\n",
      "Epoch 20/20\n",
      "109/109 [==============================] - 1483s 14s/step - loss: 3.5180 - acc: 0.4634 - val_loss: 4.3313 - val_acc: 0.2425\n"
     ]
    }
   ],
   "source": [
    "history_2 = resnet50_model.fit_generator(train_generator,\n",
    "                                         steps_per_epoch = int(np.ceil(6941 / minibatch_size)),\n",
    "                                         epochs = num_epochs,\n",
    "                                         validation_data = val_generator,\n",
    "                                         validation_steps = 1736 // val_batch_size)"
   ]
  },
  {
   "cell_type": "code",
   "execution_count": 14,
   "metadata": {
    "scrolled": true
   },
   "outputs": [
    {
     "name": "stdout",
     "output_type": "stream",
     "text": [
      "Epoch 1/20\n",
      "109/109 [==============================] - 1486s 14s/step - loss: 3.4183 - acc: 0.4724 - val_loss: 4.5296 - val_acc: 0.3514\n",
      "Epoch 2/20\n",
      "109/109 [==============================] - 1486s 14s/step - loss: 3.5739 - acc: 0.4620 - val_loss: 4.1170 - val_acc: 0.3675\n",
      "Epoch 3/20\n",
      "109/109 [==============================] - 1491s 14s/step - loss: 3.3370 - acc: 0.4937 - val_loss: 3.4584 - val_acc: 0.4643\n",
      "Epoch 4/20\n",
      "109/109 [==============================] - 1492s 14s/step - loss: 3.2019 - acc: 0.5093 - val_loss: 3.5373 - val_acc: 0.4522\n",
      "Epoch 5/20\n",
      "109/109 [==============================] - 1499s 14s/step - loss: 3.1778 - acc: 0.5061 - val_loss: 5.3171 - val_acc: 0.2298\n",
      "Epoch 6/20\n",
      "109/109 [==============================] - 1491s 14s/step - loss: 3.2100 - acc: 0.5079 - val_loss: 10.6980 - val_acc: 0.2103\n",
      "Epoch 7/20\n",
      "109/109 [==============================] - 1488s 14s/step - loss: 3.2596 - acc: 0.5011 - val_loss: 3.4929 - val_acc: 0.4343\n",
      "Epoch 8/20\n",
      "109/109 [==============================] - 1487s 14s/step - loss: 3.2028 - acc: 0.5087 - val_loss: 4.8005 - val_acc: 0.3594\n",
      "Epoch 9/20\n",
      "109/109 [==============================] - 1485s 14s/step - loss: 3.3336 - acc: 0.4876 - val_loss: 16.7144 - val_acc: 0.0305\n",
      "Epoch 10/20\n",
      "109/109 [==============================] - 1496s 14s/step - loss: 3.5233 - acc: 0.4809 - val_loss: 5.0290 - val_acc: 0.1947\n",
      "Epoch 11/20\n",
      "109/109 [==============================] - 1490s 14s/step - loss: 3.7318 - acc: 0.4543 - val_loss: 4.1872 - val_acc: 0.2869\n",
      "Epoch 12/20\n",
      "109/109 [==============================] - 1489s 14s/step - loss: 3.2402 - acc: 0.5133 - val_loss: 3.4605 - val_acc: 0.4470\n",
      "Epoch 13/20\n",
      "109/109 [==============================] - 1492s 14s/step - loss: 3.3299 - acc: 0.5129 - val_loss: 6.6036 - val_acc: 0.1492\n",
      "Epoch 14/20\n",
      "109/109 [==============================] - 1489s 14s/step - loss: 3.1977 - acc: 0.5209 - val_loss: 3.0381 - val_acc: 0.5230\n",
      "Epoch 15/20\n",
      "109/109 [==============================] - 1476s 14s/step - loss: 3.4754 - acc: 0.4766 - val_loss: 5.1109 - val_acc: 0.2437\n",
      "Epoch 16/20\n",
      "109/109 [==============================] - 1491s 14s/step - loss: 3.2944 - acc: 0.4989 - val_loss: 4.7072 - val_acc: 0.3456\n",
      "Epoch 17/20\n",
      "109/109 [==============================] - 1489s 14s/step - loss: 3.0744 - acc: 0.5343 - val_loss: 4.2747 - val_acc: 0.3399\n",
      "Epoch 18/20\n",
      "109/109 [==============================] - 1489s 14s/step - loss: 2.8575 - acc: 0.5632 - val_loss: 3.2933 - val_acc: 0.4706\n",
      "Epoch 19/20\n",
      "109/109 [==============================] - 1491s 14s/step - loss: 2.6924 - acc: 0.5898 - val_loss: 3.1424 - val_acc: 0.5219\n",
      "Epoch 20/20\n",
      "109/109 [==============================] - 1492s 14s/step - loss: 2.6531 - acc: 0.6011 - val_loss: 3.1724 - val_acc: 0.4994\n"
     ]
    }
   ],
   "source": [
    "history_3 = resnet50_model.fit_generator(train_generator,\n",
    "                                         steps_per_epoch = int(np.ceil(6941 / minibatch_size)),\n",
    "                                         epochs = num_epochs,\n",
    "                                         validation_data = val_generator,\n",
    "                                         validation_steps = 1736 // val_batch_size)"
   ]
  },
  {
   "cell_type": "code",
   "execution_count": 15,
   "metadata": {
    "scrolled": true
   },
   "outputs": [
    {
     "name": "stdout",
     "output_type": "stream",
     "text": [
      "Epoch 1/20\n",
      "109/109 [==============================] - 1508s 14s/step - loss: 2.6255 - acc: 0.5987 - val_loss: 3.7317 - val_acc: 0.3808\n",
      "Epoch 2/20\n",
      "109/109 [==============================] - 1505s 14s/step - loss: 2.6437 - acc: 0.5947 - val_loss: 2.8272 - val_acc: 0.5334\n",
      "Epoch 3/20\n",
      "109/109 [==============================] - 1504s 14s/step - loss: 2.6796 - acc: 0.5872 - val_loss: 3.8137 - val_acc: 0.4631\n",
      "Epoch 4/20\n",
      "109/109 [==============================] - 1506s 14s/step - loss: 2.4817 - acc: 0.6181 - val_loss: 2.8365 - val_acc: 0.5490\n",
      "Epoch 5/20\n",
      "109/109 [==============================] - 1508s 14s/step - loss: 2.5715 - acc: 0.6180 - val_loss: 4.8934 - val_acc: 0.3733\n",
      "Epoch 6/20\n",
      "109/109 [==============================] - 1505s 14s/step - loss: 2.6955 - acc: 0.6165 - val_loss: 3.9255 - val_acc: 0.4608\n",
      "Epoch 7/20\n",
      "109/109 [==============================] - 1505s 14s/step - loss: 2.5708 - acc: 0.6327 - val_loss: 4.0701 - val_acc: 0.3934\n",
      "Epoch 8/20\n",
      "109/109 [==============================] - 1504s 14s/step - loss: 2.4612 - acc: 0.6465 - val_loss: 3.7393 - val_acc: 0.4608\n",
      "Epoch 9/20\n",
      "109/109 [==============================] - 1508s 14s/step - loss: 2.4443 - acc: 0.6446 - val_loss: 2.8959 - val_acc: 0.5369\n",
      "Epoch 10/20\n",
      "109/109 [==============================] - 1504s 14s/step - loss: 2.2640 - acc: 0.6658 - val_loss: 2.6654 - val_acc: 0.5697\n",
      "Epoch 11/20\n",
      "109/109 [==============================] - 1499s 14s/step - loss: 2.1766 - acc: 0.6662 - val_loss: 2.6535 - val_acc: 0.5668\n",
      "Epoch 12/20\n",
      "109/109 [==============================] - 1501s 14s/step - loss: 2.1775 - acc: 0.6620 - val_loss: 9.5748 - val_acc: 0.1411\n",
      "Epoch 13/20\n",
      "109/109 [==============================] - 1495s 14s/step - loss: 2.9809 - acc: 0.5358 - val_loss: 6.3201 - val_acc: 0.0945\n",
      "Epoch 14/20\n",
      "109/109 [==============================] - 1498s 14s/step - loss: 2.9997 - acc: 0.5754 - val_loss: 3.1737 - val_acc: 0.5081\n",
      "Epoch 15/20\n",
      "109/109 [==============================] - 1500s 14s/step - loss: 2.6428 - acc: 0.6240 - val_loss: 3.2481 - val_acc: 0.4937\n",
      "Epoch 16/20\n",
      "109/109 [==============================] - 1503s 14s/step - loss: 2.6214 - acc: 0.6305 - val_loss: 5.6482 - val_acc: 0.1745\n",
      "Epoch 17/20\n",
      "109/109 [==============================] - 1502s 14s/step - loss: 2.8436 - acc: 0.5948 - val_loss: 4.3419 - val_acc: 0.3733\n",
      "Epoch 18/20\n",
      "109/109 [==============================] - 1502s 14s/step - loss: 2.7699 - acc: 0.6161 - val_loss: 4.0860 - val_acc: 0.3923\n",
      "Epoch 19/20\n",
      "109/109 [==============================] - 1502s 14s/step - loss: 2.5503 - acc: 0.6437 - val_loss: 3.4725 - val_acc: 0.4700\n",
      "Epoch 20/20\n",
      "109/109 [==============================] - 1496s 14s/step - loss: 2.3689 - acc: 0.6556 - val_loss: 3.3816 - val_acc: 0.4378\n"
     ]
    }
   ],
   "source": [
    "history_4 = resnet50_model.fit_generator(train_generator,\n",
    "                                         steps_per_epoch = int(np.ceil(6941 / minibatch_size)),\n",
    "                                         epochs = num_epochs,\n",
    "                                         validation_data = val_generator,\n",
    "                                         validation_steps = 1736 // val_batch_size)"
   ]
  },
  {
   "cell_type": "code",
   "execution_count": 16,
   "metadata": {
    "scrolled": true
   },
   "outputs": [
    {
     "name": "stdout",
     "output_type": "stream",
     "text": [
      "Epoch 1/20\n",
      "109/109 [==============================] - 1501s 14s/step - loss: 2.7300 - acc: 0.6087 - val_loss: 10.5006 - val_acc: 0.0795\n",
      "Epoch 2/20\n",
      "109/109 [==============================] - 1502s 14s/step - loss: 2.7806 - acc: 0.6153 - val_loss: 5.9459 - val_acc: 0.3283\n",
      "Epoch 3/20\n",
      "109/109 [==============================] - 1503s 14s/step - loss: 2.5009 - acc: 0.6400 - val_loss: 5.5445 - val_acc: 0.3756\n",
      "Epoch 4/20\n",
      "109/109 [==============================] - 1501s 14s/step - loss: 2.3529 - acc: 0.6691 - val_loss: 14.5868 - val_acc: 0.0829\n",
      "Epoch 5/20\n",
      "109/109 [==============================] - 1503s 14s/step - loss: 2.5490 - acc: 0.6449 - val_loss: 4.6948 - val_acc: 0.4240\n",
      "Epoch 6/20\n",
      "109/109 [==============================] - 1503s 14s/step - loss: 2.2424 - acc: 0.6906 - val_loss: 2.6729 - val_acc: 0.5835\n",
      "Epoch 7/20\n",
      "109/109 [==============================] - 1503s 14s/step - loss: 2.6677 - acc: 0.6313 - val_loss: 5.6662 - val_acc: 0.3439\n",
      "Epoch 8/20\n",
      "109/109 [==============================] - 1503s 14s/step - loss: 2.7587 - acc: 0.6298 - val_loss: 16.2911 - val_acc: 0.0524\n",
      "Epoch 9/20\n",
      "109/109 [==============================] - 1502s 14s/step - loss: 3.5341 - acc: 0.5125 - val_loss: 4.3618 - val_acc: 0.3952\n",
      "Epoch 10/20\n",
      "109/109 [==============================] - 1501s 14s/step - loss: 2.8208 - acc: 0.6468 - val_loss: 3.2289 - val_acc: 0.5553\n",
      "Epoch 11/20\n",
      "109/109 [==============================] - 1508s 14s/step - loss: 2.7052 - acc: 0.6604 - val_loss: 3.9646 - val_acc: 0.4222\n",
      "Epoch 12/20\n",
      "109/109 [==============================] - 1502s 14s/step - loss: 2.9977 - acc: 0.6104 - val_loss: 4.5721 - val_acc: 0.3520\n",
      "Epoch 13/20\n",
      "109/109 [==============================] - 1516s 14s/step - loss: 2.9533 - acc: 0.6288 - val_loss: 4.9823 - val_acc: 0.3450\n",
      "Epoch 14/20\n",
      "109/109 [==============================] - 1502s 14s/step - loss: 3.5750 - acc: 0.5113 - val_loss: 8.2168 - val_acc: 0.0974\n",
      "Epoch 15/20\n",
      "109/109 [==============================] - 1504s 14s/step - loss: 3.2892 - acc: 0.5812 - val_loss: 3.5523 - val_acc: 0.5161\n",
      "Epoch 16/20\n",
      "109/109 [==============================] - 1503s 14s/step - loss: 3.1522 - acc: 0.6127 - val_loss: 5.3375 - val_acc: 0.2800\n",
      "Epoch 17/20\n",
      "109/109 [==============================] - 3106s 28s/step - loss: 3.0554 - acc: 0.6171 - val_loss: 4.6518 - val_acc: 0.3479\n",
      "Epoch 18/20\n",
      "109/109 [==============================] - 1526s 14s/step - loss: 3.3414 - acc: 0.5692 - val_loss: 8.5284 - val_acc: 0.0645\n",
      "Epoch 19/20\n",
      "109/109 [==============================] - 1525s 14s/step - loss: 3.0874 - acc: 0.6213 - val_loss: 3.4969 - val_acc: 0.5202\n",
      "Epoch 20/20\n",
      "109/109 [==============================] - 1517s 14s/step - loss: 2.9824 - acc: 0.6486 - val_loss: 11.4677 - val_acc: 0.1037\n"
     ]
    }
   ],
   "source": [
    "history_5 = resnet50_model.fit_generator(train_generator,\n",
    "                                         steps_per_epoch = int(np.ceil(6941 / minibatch_size)),\n",
    "                                         epochs = num_epochs,\n",
    "                                         validation_data = val_generator,\n",
    "                                         validation_steps = 1736 // val_batch_size)"
   ]
  },
  {
   "cell_type": "code",
   "execution_count": 22,
   "metadata": {},
   "outputs": [],
   "source": [
    "all_loss = []\n",
    "all_acc = []\n",
    "all_val_acc = []\n",
    "for hist in [history_1, history_2, history_3, history_4, history_5]:\n",
    "    all_loss += hist.history[\"loss\"]\n",
    "    all_acc += hist.history[\"acc\"]\n",
    "    all_val_acc += hist.history[\"val_acc\"]"
   ]
  },
  {
   "cell_type": "code",
   "execution_count": 24,
   "metadata": {},
   "outputs": [
    {
     "data": {
      "text/plain": [
       "[<matplotlib.lines.Line2D at 0xb3a581ef0>]"
      ]
     },
     "execution_count": 24,
     "metadata": {},
     "output_type": "execute_result"
    },
    {
     "data": {
      "image/png": "[encoded data removed]",
      "text/plain": [
       "<Figure size 432x288 with 1 Axes>"
      ]
     },
     "metadata": {
      "needs_background": "light"
     },
     "output_type": "display_data"
    }
   ],
   "source": [
    "plt.plot(all_loss)"
   ]
  },
  {
   "cell_type": "code",
   "execution_count": 25,
   "metadata": {},
   "outputs": [
    {
     "data": {
      "text/plain": [
       "[<matplotlib.lines.Line2D at 0xb3a683b38>]"
      ]
     },
     "execution_count": 25,
     "metadata": {},
     "output_type": "execute_result"
    },
    {
     "data": {
      "image/png": "[encoded data removed]",
      "text/plain": [
       "<Figure size 432x288 with 1 Axes>"
      ]
     },
     "metadata": {
      "needs_background": "light"
     },
     "output_type": "display_data"
    }
   ],
   "source": [
    "plt.plot(all_acc)"
   ]
  },
  {
   "cell_type": "code",
   "execution_count": 26,
   "metadata": {},
   "outputs": [
    {
     "data": {
      "text/plain": [
       "[<matplotlib.lines.Line2D at 0xb3a73ee80>]"
      ]
     },
     "execution_count": 26,
     "metadata": {},
     "output_type": "execute_result"
    },
    {
     "data": {
      "image/png": "[encoded data removed]",
      "text/plain": [
       "<Figure size 432x288 with 1 Axes>"
      ]
     },
     "metadata": {
      "needs_background": "light"
     },
     "output_type": "display_data"
    }
   ],
   "source": [
    "plt.plot(all_val_acc)"
   ]
  },
  {
   "cell_type": "code",
   "execution_count": 16,
   "metadata": {},
   "outputs": [
    {
     "data": {
      "text/plain": [
       "array([124.38554073, 132.33668062, 138.94874191])"
      ]
     },
     "execution_count": 16,
     "metadata": {},
     "output_type": "execute_result"
    }
   ],
   "source": [
    "bgr_mean"
   ]
  },
  {
   "cell_type": "code",
   "execution_count": 33,
   "metadata": {},
   "outputs": [],
   "source": [
    "import keras.backend as K"
   ]
  },
  {
   "cell_type": "code",
   "execution_count": 36,
   "metadata": {},
   "outputs": [
    {
     "name": "stdout",
     "output_type": "stream",
     "text": [
      "0.0002\n"
     ]
    }
   ],
   "source": [
    "print(K.eval(resnet50_model.optimizer.lr))"
   ]
  },
  {
   "cell_type": "code",
   "execution_count": 35,
   "metadata": {},
   "outputs": [],
   "source": [
    "K.set_value(resnet50_model.optimizer.lr, .0002)"
   ]
  },
  {
   "cell_type": "code",
   "execution_count": null,
   "metadata": {},
   "outputs": [],
   "source": []
  }
 ],
 "metadata": {
  "kernelspec": {
   "display_name": "Python 3",
   "language": "python",
   "name": "python3"
  },
  "language_info": {
   "codemirror_mode": {
    "name": "ipython",
    "version": 3
   },
   "file_extension": ".py",
   "mimetype": "text/x-python",
   "name": "python",
   "nbconvert_exporter": "python",
   "pygments_lexer": "ipython3",
   "version": "3.6.8"
  }
 },
 "nbformat": 4,
 "nbformat_minor": 2
}
